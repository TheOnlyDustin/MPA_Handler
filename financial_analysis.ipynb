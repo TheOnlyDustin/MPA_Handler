<<<<<<< HEAD
<<<<<<< HEAD
{
 "cells": [
  {
   "cell_type": "markdown",
   "id": "6fb4df05-571c-4456-8102-311d9676650f",
   "metadata": {},
   "source": [
    "# Financial Analysis Application\n",
    "\n",
    "In this notebook, you will create agents to review financial documents and generate a Market Price Analysis (MPA) using the CrewAI framewkor.\n"
   ]
  },
  {
   "cell_type": "code",
   "execution_count": null,
   "id": "7e140853-21f7-41e0-8033-e34ea312fa4d",
   "metadata": {},
   "outputs": [],
   "source": [
    "# Installation\n",
    "%pip install -r requirements.txt\n",
    "%pip install ipywidgets pandas python-dotenv\n",
    "%jupyter nbextension enable --py widgetsnbextension --sys-prefix"
   ]
  },
  {
   "cell_type": "code",
   "execution_count": null,
   "id": "8f0a47bb-06d1-44da-a88e-b0b85314299f",
   "metadata": {},
   "outputs": [],
   "source": [
    "# Warning Control\n",
    "import warnings\n",
    "warnings.filterwarnings('ignore')"
   ]
  },
  {
   "cell_type": "code",
   "execution_count": null,
   "id": "5398ff70-dbb6-4646-ac6b-0adc35c6f4a7",
   "metadata": {},
   "outputs": [],
   "source": [
    "from crewai import Agent, Task, Crew\n",
    "import os\n",
    "from dotenv import load_dotenv\n",
    "import ipywidgets as widgets\n",
    "from IPython.display import display, Markdown\n",
    "import pandas as pd\n",
    "from io import BytesIO\n",
    "\n",
    "# Load environment variables from .env file\n",
    "load_dotenv()\n",
    "\n",
    "# Set the OpenAI API key from environment variables\n",
    "openai_api_key = os.getenv(\"OPENAI_API_KEY\")\n",
    "if openai_api_key is None:\n",
    "    raise ValueError(\"OpenAI API key not found. Please set it in your .env file or environment variables.\")\n",
    "os.environ[\"OPENAI_API_KEY\"] = openai_api_key\n",
    "os.environ[\"OPENAI_MODEL_NAME\"] = 'gpt-3.5-turbo'"
   ]
  },
  {
   "cell_type": "code",
   "execution_count": null,
   "id": "a6a2e02d-6c15-41fe-b55c-4e2ef0cd1cbc",
   "metadata": {},
   "outputs": [],
   "source": [
    "# Create the file upload widget\n",
    "upload = widgets.FileUpload(\n",
    "    accept='application/pdf, text/csv, application/vnd.ms-excel, application/vnd.openxmlformats-officedocument.spreadsheetml.sheet',  # Specify accepted file types\n",
    "    multiple=True  # Allow multiple file uploads\n",
    ")\n",
    "\n",
    "# Display the widget\n",
    "display(upload)\n",
    "\n",
    "# Function to process uploaded files\n",
    "def handle_upload(change):\n",
    "    files_content = {}\n",
    "    for filename, file_info in upload.value.items():\n",
    "        if filename.endswith('.csv'):\n",
    "            df = pd.read_csv(BytesIO(file_info['content']))\n",
    "            files_content[filename] = df\n",
    "            display(df.head())\n",
    "        elif filename.endswith('.xlsx'):\n",
    "            df = pd.read_excel(BytesIO(file_info['content']))\n",
    "            files_content[filename] = df\n",
    "            display(df.head())\n",
    "        elif filename.endswith('.pdf'):\n",
    "            with open(filename, 'wb') as f:\n",
    "                f.write(file_info['content'])\n",
    "            files_content[filename] = file_info['content']\n",
    "            display(f\"PDF file uploaded: {filename}\")\n",
    "    return files_content\n",
    "\n",
    "# Attach the handler to the file upload widget\n",
    "upload.observe(handle_upload, names='value')"
   ]
  },
  {
   "cell_type": "code",
   "execution_count": null,
   "id": "573d818e-0d46-43ba-b011-30907df4b11c",
   "metadata": {},
   "outputs": [],
   "source": [
    "# Agent: Document Reviewer\n",
    "class DocumentReviewerAgent(Agent):\n",
    "    def execute(self, inputs):\n",
    "        file_content = inputs[\"file_content\"]\n",
    "        # Process the DataFrame and extract key financial figures\n",
    "        financial_figures = {\n",
    "            \"Gross Revenue\": file_content[\"Gross Revenue\"].sum(),\n",
    "            \"Cost of Goods Sold (COGS)\": file_content[\"COGS\"].sum(),\n",
    "            # Add other key figures as required\n",
    "        }\n",
    "        addback_figures = {\n",
    "            \"Meals and Entertainment\": file_content[\"Meals and Entertainment\"].sum(),\n",
    "            \"Vehicles\": file_content[\"Vehicles\"].sum(),\n",
    "            # Add other addback figures as required\n",
    "        }\n",
    "        return financial_figures, addback_figures\n",
    "\n",
    "doc_reviewer = DocumentReviewerAgent(\n",
    "    role=\"Document Reviewer\",\n",
    "    goal=\"Review financial statements and extract key financial figures. Your work is the basis for the Financial Analyst and Addback Analyst to complete their respective financial reports.\",\n",
    "    backstory=\"You're tasked with reviewing financial statements provided by a potential seller. Your goal is to extract and provide key financial figures needed for further analysis for the Financial and Addback Analyst. Key Figures include Gross Revenue, Cost of Goods Sold (COGS), Gross Profit, Operating Expense, Net Income, Depreciation, Income Tax, Amortization, Interest on loans/financing, Owners health insurance, Owners retirement contributions, Salary for non working family member, Owners Salary, Owner's Estimated Payroll Taxes, Total Bank Financing Addbacks, and Banker's Adjusted Net Income for the financial analyst, and then provide the following key financials to the Addback Analyst. Include any Meals and Entertainment, Vehicles, Assets, Real Estate, Travel Expenses, Fines and Penalties, Life Insurance Premiums for Key Employees, Interest on Loans for Tax-Exempt Investments, Depreciation on Personal Assets, Cost of Goods Sold (COGS) for Non-Business Products or Services, Losses from Hobbies or Non-Business Activities, Expenses Paid with Personal Funds, Owner’s Compensation, Non-Deductible Taxes, Business Gifts, Depreciation and Amortization Adjustments, Charitable Contributions of Non-Investment Property, Political Contributions, Federal Estate and Gift Taxes, Depreciation on Listed Property, Losses from Sale or Exchange of Listed Property, Depreciation on a Home Office, Unreimbursed Employee Business Expenses, Tax Penalties and Fines, Lobbying Expenses, Club Dues, Mileage Deductions Documentation Requirements, Bank Fines and Fees, Credit Card Fees, and Deductibility of Life Insurance Premiums.\",\n",
=======
{
 "cells": [
  {
   "cell_type": "code",
   "execution_count": null,
   "metadata": {},
   "outputs": [],
   "source": [
    "# Financial Analysis Application\n",
    "\n",
    "In this notebook, you will create agents to review financial documents and generate a Market Price Analysis (MPA) using the CrewAI framework.\n",
    "\n",
    "## Installation\n",
    "\n",
    "Install the required packages:\n",
    "```sh\n",
    "!pip install -r requirements.txt\n",
    "\n",
    "import warnings\n",
    "warnings.filterwarnings('ignore')\n",
    "\n",
    "from crewai import Agent, Task, Crew\n",
    "import os\n",
    "from utils import get_openai_api_key\n",
    "\n",
    "openai_api_key = get_openai_api_key()\n",
    "os.environ[\"OPENAI_MODEL_NAME\"] = 'gpt-3.5-turbo'\n",
    "\n",
    "# Agent: Document Reviewer\n",
    "doc_reviewer = Agent(\n",
    "    role=\"Document Reviewer\",\n",
    "    goal=\"Review financial statements and extract key financial figures.\",\n",
    "    backstory=\"You're tasked with reviewing financial statements provided by a potential seller. Your goal is to extract and provide key financial figures needed for further analysis.\",\n",
>>>>>>> 40d4b2d (Updated Files)
    "    allow_delegation=False,\n",
    "    verbose=True\n",
    ")\n",
    "\n",
    "# Agent: Financial Analyst\n",
<<<<<<< HEAD
    "class FinancialAnalystAgent(Agent):\n",
    "    def execute(self, inputs):\n",
    "        financial_figures = inputs[\"financial_figures\"]\n",
    "        # Analyze the financial figures\n",
    "        # Ensure all details required for the MPA are available\n",
    "        analysis_report = {\n",
    "            \"Revenue Analysis\": f\"Gross Revenue: {financial_figures['Gross Revenue']}\",\n",
    "            \"COGS Analysis\": f\"Cost of Goods Sold: {financial_figures['Cost of Goods Sold (COGS)']}\",\n",
    "            # Add other analysis details as required\n",
    "        }\n",
    "        return analysis_report\n",
    "\n",
    "financial_analyst = FinancialAnalystAgent(\n",
    "    role=\"Financial Analyst\",\n",
    "    goal=\"Analyze the extracted financial figures and provide detailed insights.\",\n",
    "    backstory=\"You're tasked with analyzing the financial figures extracted by the Document Reviewer. Your goal is to ensure all of the details required for the MPA are available, and available for the MPA Preparer. If you do not receive everything, have the Document Reviewer review the document again, and provide any figures that would allow you to calculate or deduce the figures you’re missing.\",\n",
=======
    "financial_analyst = Agent(\n",
    "    role=\"Financial Analyst\",\n",
    "    goal=\"Analyze the extracted financial figures and provide detailed insights.\",\n",
    "    backstory=\"You're tasked with analyzing the financial figures extracted by the Document Reviewer. Your goal is to provide detailed insights into the financial health of the business.\",\n",
>>>>>>> 40d4b2d (Updated Files)
    "    allow_delegation=False,\n",
    "    verbose=True\n",
    ")\n",
    "\n",
    "# Agent: Addback Analyst\n",
<<<<<<< HEAD
    "class AddbackAnalystAgent(Agent):\n",
    "    def execute(self, inputs):\n",
    "        addback_figures = inputs[\"addback_figures\"]\n",
    "        # Analyze the addback figures\n",
    "        # Ensure all details required for the MPA are available\n",
    "        addback_report = {\n",
    "            \"Meals and Entertainment Analysis\": f\"Meals and Entertainment: {addback_figures['Meals and Entertainment']}\",\n",
    "            \"Vehicles Analysis\": f\"Vehicles: {addback_figures['Vehicles']}\",\n",
    "            # Add other addback analysis details as required\n",
    "        }\n",
    "        return addback_report\n",
    "\n",
    "addback_analyst = AddbackAnalystAgent(\n",
    "    role=\"Addback Analyst\",\n",
    "    goal=\"Analyze the granular numbers associated with addbacks and provide details.\",\n",
    "    backstory=\"You're tasked with analyzing the granular numbers associated with addbacks provided by the Document Reviewer. Your goal is to ensure all of the details required for the MPA are available, and available for the MPA Preparer. If you do not receive everything, have the Document Reviewer review the document again, and provide any figures that would allow you to calculate or deduce the figures you’re missing.\",\n",
=======
    "addback_analyst = Agent(\n",
    "    role=\"Addback Analyst\",\n",
    "    goal=\"Analyze the granular numbers associated with addbacks and provide details.\",\n",
    "    backstory=\"You're tasked with analyzing the granular numbers associated with addbacks provided by the seller. Your goal is to provide detailed insights into these addbacks.\",\n",
>>>>>>> 40d4b2d (Updated Files)
    "    allow_delegation=False,\n",
    "    verbose=True\n",
    ")\n",
    "\n",
    "# Agent: MPA Preparer\n",
<<<<<<< HEAD
    "class MPAPreparerAgent(Agent):\n",
    "    def execute(self, inputs):\n",
    "        financial_analysis_report = inputs[\"financial_analysis_report\"]\n",
    "        addback_analysis_report = inputs[\"addback_analysis_report\"]\n",
    "        # Compile the insights from the financial and addback analyses\n",
    "        mpa_report = {\n",
    "            \"Financial Analysis\": financial_analysis_report,\n",
    "            \"Addback Analysis\": addback_analysis_report,\n",
    "            \"Questions\": [\"List any questions where the data is questionable.\"]\n",
    "        }\n",
    "        return mpa_report\n",
    "\n",
    "mpa_preparer = MPAPreparerAgent(\n",
    "    role=\"MPA Preparer\",\n",
    "    goal=\"Prepare a Market Price Analysis (MPA) and list questions for the seller.\",\n",
    "    backstory=\"You're tasked with preparing the Market Price Analysis (MPA) using the data provided by the Financial Analyst and Addback Analyst. Your goal is to complete the MPA Valuation as fully as possible, and then compile a list of questions where the data is questionable.\",\n",
=======
    "mpa_preparer = Agent(\n",
    "    role=\"MPA Preparer\",\n",
    "    goal=\"Prepare a Market Price Analysis (MPA) and list questions for the seller.\",\n",
    "    backstory=\"You're tasked with preparing the Market Price Analysis (MPA) using the insights provided by the Financial Analyst and Addback Analyst. Your goal is to compile this into a comprehensive report and generate a list of questions where the data is questionable.\",\n",
>>>>>>> 40d4b2d (Updated Files)
    "    allow_delegation=False,\n",
    "    verbose=True\n",
    ")\n",
    "\n",
    "# Agent: Editor\n",
<<<<<<< HEAD
    "class EditorAgent(Agent):\n",
    "    def execute(self, inputs):\n",
    "        mpa_report = inputs[\"mpa_report\"]\n",
    "        # Review the MPA and ensure accuracy and clarity\n",
    "        final_mpa_report = f\"Final MPA Report:\\n{mpa_report}\"\n",
    "        return final_mpa_report\n",
    "\n",
    "editor = EditorAgent(\n",
=======
    "editor = Agent(\n",
>>>>>>> 40d4b2d (Updated Files)
    "    role=\"Editor\",\n",
    "    goal=\"Review the MPA and questions to ensure accuracy and clarity.\",\n",
    "    backstory=\"You're tasked with reviewing the Market Price Analysis (MPA) and the list of questions generated by the MPA Preparer. Your goal is to ensure accuracy and clarity in the final documents.\",\n",
    "    allow_delegation=False,\n",
    "    verbose=True\n",
<<<<<<< HEAD
    ")"
   ]
  },
  {
   "cell_type": "code",
   "execution_count": null,
   "id": "8824ee6c-32f7-474c-a74c-daad9d324a33",
   "metadata": {},
   "outputs": [],
   "source": [
    "# Creating Tasks\n",
=======
    ")\n",
>>>>>>> 40d4b2d (Updated Files)
    "\n",
    "# Task: Review Documents\n",
    "review_docs = Task(\n",
    "    description=(\n",
    "        \"1. Review the financial statements provided by the seller.\\n\"\n",
<<<<<<< HEAD
    "        \"2. Extract key financial figures such as Gross Revenue, Cost of Goods Sold (COGS), Gross Profit, Operating Expense, Net Income, Depreciation, Income Tax, Amortization, Interest on loans/financing, Owners health insurance, Owners retirement contributions, Salary for non working family member, Owners Salary, Owner's Estimated Payroll Taxes, Total Bank Financing Addbacks, and Banker's Adjusted Net Income for the financial analyst.\\n\"\n",
    "        \"3. Provide the following key financials to the Addback Analyst: Meals and Entertainment, Vehicles, Assets, Real Estate, Travel Expenses, Fines and Penalties, Life Insurance Premiums for Key Employees, Interest on Loans for Tax-Exempt Investments, Depreciation on Personal Assets, Cost of Goods Sold (COGS) for Non-Business Products or Services, Losses from Hobbies or Non-Business Activities, Expenses Paid with Personal Funds, Owner’s Compensation, Non-Deductible Taxes, Business Gifts, Depreciation and Amortization Adjustments, Charitable Contributions of Non-Investment Property, Political Contributions, Federal Estate and Gift Taxes, Depreciation on Listed Property, Losses from Sale or Exchange of Listed Property, Depreciation on a Home Office, Unreimbursed Employee Business Expenses, Tax Penalties and Fines, Lobbying Expenses, Club Dues, Mileage Deductions Documentation Requirements, Bank Fines and Fees, Credit Card Fees, and Deductibility of Life Insurance Premiums.\"\n",
    "    ),\n",
    "    expected_output=\"Structured financial figures extracted from the documents for the Financial and Addback Analysts.\",\n",
=======
    "        \"2. Extract key financial figures such as revenue, profit, expenses, etc.\\n\"\n",
    "        \"3. Provide these figures in a structured format.\"\n",
    "    ),\n",
    "    expected_output=\"Structured financial figures extracted from the documents.\",\n",
>>>>>>> 40d4b2d (Updated Files)
    "    agent=doc_reviewer,\n",
    ")\n",
    "\n",
    "# Task: Analyze Financial Figures\n",
    "analyze_financials = Task(\n",
    "    description=(\n",
<<<<<<< HEAD
    "        \"1. Analyze the extracted financial figures provided by the Document Reviewer.\\n\"\n",
    "        \"2. Ensure all details required for the MPA are available.\\n\"\n",
    "        \"3. If any figures are missing, instruct the Document Reviewer to review the documents again and provide the necessary figures.\"\n",
    "    ),\n",
    "    expected_output=\"Detailed financial analysis report, ensuring completeness of data for MPA preparation.\",\n",
=======
    "        \"1. Analyze the extracted financial figures.\\n\"\n",
    "        \"2. Provide detailed insights into the financial health of the business.\"\n",
    "    ),\n",
    "    expected_output=\"Detailed financial analysis report.\",\n",
>>>>>>> 40d4b2d (Updated Files)
    "    agent=financial_analyst,\n",
    ")\n",
    "\n",
    "# Task: Analyze Addbacks\n",
    "analyze_addbacks = Task(\n",
    "    description=(\n",
<<<<<<< HEAD
    "        \"1. Analyze the granular numbers associated with addbacks provided by the Document Reviewer.\\n\"\n",
    "        \"2. Ensure all details required for the MPA are available.\\n\"\n",
    "        \"3. If any figures are missing, instruct the Document Reviewer to review the documents again and provide the necessary figures.\"\n",
    "    ),\n",
    "    expected_output=\"Detailed addback analysis report, ensuring completeness of data for MPA preparation.\",\n",
=======
    "        \"1. Analyze the granular numbers associated with addbacks.\\n\"\n",
    "        \"2. Provide detailed insights into these addbacks.\"\n",
    "    ),\n",
    "    expected_output=\"Detailed addback analysis report.\",\n",
>>>>>>> 40d4b2d (Updated Files)
    "    agent=addback_analyst,\n",
    ")\n",
    "\n",
    "# Task: Prepare MPA\n",
    "prepare_mpa = Task(\n",
    "    description=(\n",
    "        \"1. Compile the insights from the financial and addback analyses.\\n\"\n",
    "        \"2. Prepare a comprehensive Market Price Analysis (MPA).\\n\"\n",
    "        \"3. Generate a list of questions where the data is questionable.\"\n",
    "    ),\n",
    "    expected_output=\"Comprehensive MPA report with a list of questions.\",\n",
    "    agent=mpa_preparer,\n",
    ")\n",
    "\n",
    "# Task: Review MPA\n",
    "review_mpa = Task(\n",
    "    description=(\n",
<<<<<<< HEAD
    "        \"1. Review the MPA and the list of questions generated by the MPA Preparer.\\n\"\n",
=======
    "        \"1. Review the MPA and the list of questions.\\n\"\n",
>>>>>>> 40d4b2d (Updated Files)
    "        \"2. Ensure accuracy and clarity in the final documents.\"\n",
    "    ),\n",
    "    expected_output=\"Final reviewed MPA report and list of questions.\",\n",
    "    agent=editor,\n",
<<<<<<< HEAD
    ")"
   ]
  },
  {
   "cell_type": "code",
   "execution_count": null,
   "id": "9f240c87-9723-41f6-ba33-29089c9181bb",
   "metadata": {},
   "outputs": [],
   "source": [
    "# Creating the Crew\n",
=======
    ")\n",
>>>>>>> 40d4b2d (Updated Files)
    "\n",
    "crew = Crew(\n",
    "    agents=[doc_reviewer, financial_analyst, addback_analyst, mpa_preparer, editor],\n",
    "    tasks=[review_docs, analyze_financials, analyze_addbacks, prepare_mpa, review_mpa],\n",
    "    verbose=2\n",
<<<<<<< HEAD
    ")"
   ]
  },
  {
   "cell_type": "code",
   "execution_count": null,
   "id": "a9681df8-86e7-4915-849d-86ba8da72e4c",
   "metadata": {},
   "outputs": [],
   "source": [
    "# Running the Crew with Uploaded Files\n",
    "\n",
    "# Define a function to run the crew with the uploaded files\n",
    "def run_crew_with_files(files_content):\n",
    "    for filename, content in files_content.items():\n",
    "        if isinstance(content, pd.DataFrame):\n",
    "            print(f\"Processing {filename}...\")\n",
    "            # Extract key financial figures using the Document Reviewer agent\n",
    "            financial_figures, addback_figures = doc_reviewer.execute({\"file_content\": content})\n",
    "            \n",
    "            # Ensure the financial figures are passed to the Financial Analyst and Addback Analyst\n",
    "            financial_analysis_report = financial_analyst.execute({\"financial_figures\": financial_figures})\n",
    "            addback_analysis_report = addback_analyst.execute({\"addback_figures\": addback_figures})\n",
    "            \n",
    "            # Compile the insights from both analysts\n",
    "            mpa_input = {\n",
    "                \"financial_analysis_report\": financial_analysis_report,\n",
    "                \"addback_analysis_report\": addback_analysis_report\n",
    "            }\n",
    "            \n",
    "            # Prepare the MPA using the MPA Preparer agent\n",
    "            mpa_report = mpa_preparer.execute(mpa_input)\n",
    "            \n",
    "            # Review the MPA using the Editor agent\n",
    "            final_mpa_report = editor.execute({\"mpa_report\": mpa_report})\n",
    "            \n",
    "            # Display the final MPA report\n",
    "            display(Markdown(final_mpa_report))\n",
    "        else:\n",
    "            print(f\"Unsupported file type: {filename}\")\n",
    "\n",
    "# Handle the uploaded files and run the crew\n",
    "def handle_and_run(change):\n",
    "    files_content = handle_upload(change)\n",
    "    run_crew_with_files(files_content)\n",
    "\n",
    "# Attach the handler to the file upload widget\n",
    "upload.observe(handle_and_run, names='value')"
   ]
  },
  {
   "cell_type": "code",
   "execution_count": null,
   "id": "2d7c36f0-bf32-4d71-b418-a67aec990846",
   "metadata": {},
   "outputs": [],
   "source": [
    "# Try it Yourself\n",
    "\n",
    "topic = \"Financial Analysis of XYZ Corp\"\n",
    "result = crew.kickoff(inputs={\"topic\": topic})\n",
    "\n",
    "Markdown(result)"
=======
    ")\n",
    "\n",
    "result = crew.kickoff(inputs={\"topic\": \"Financial Analysis of ABC Corp\"})\n",
    "\n",
    "# Display the results\n",
    "from IPython.display import Markdown\n",
    "Markdown(result)\n",
    "\n"
>>>>>>> 40d4b2d (Updated Files)
   ]
  }
 ],
 "metadata": {
<<<<<<< HEAD
  "kernelspec": {
   "display_name": "Python 3 (ipykernel)",
   "language": "python",
   "name": "python3"
  },
  "language_info": {
   "codemirror_mode": {
    "name": "ipython",
    "version": 3
   },
   "file_extension": ".py",
   "mimetype": "text/x-python",
   "name": "python",
   "nbconvert_exporter": "python",
   "pygments_lexer": "ipython3",
   "version": "3.11.9"
  }
 },
 "nbformat": 4,
 "nbformat_minor": 5
}
=======
# Financial Analysis Application

In this notebook, you will create agents to review financial documents and generate a Market Price Analysis (MPA) using the CrewAI framework.

## Installation

Install the required packages:
```sh
!pip install -r requirements.txt

import warnings
warnings.filterwarnings('ignore')

from crewai import Agent, Task, Crew
import os
from utils import get_openai_api_key

openai_api_key = get_openai_api_key()
os.environ["OPENAI_MODEL_NAME"] = 'gpt-3.5-turbo'

# Agent: Document Reviewer
doc_reviewer = Agent(
    role="Document Reviewer",
    goal="Review financial statements and extract key financial figures.",
    backstory="You're tasked with reviewing financial statements provided by a potential seller. Your goal is to extract and provide key financial figures needed for further analysis.",
    allow_delegation=False,
    verbose=True
)

# Agent: Financial Analyst
financial_analyst = Agent(
    role="Financial Analyst",
    goal="Analyze the extracted financial figures and provide detailed insights.",
    backstory="You're tasked with analyzing the financial figures extracted by the Document Reviewer. Your goal is to provide detailed insights into the financial health of the business.",
    allow_delegation=False,
    verbose=True
)

# Agent: Addback Analyst
addback_analyst = Agent(
    role="Addback Analyst",
    goal="Analyze the granular numbers associated with addbacks and provide details.",
    backstory="You're tasked with analyzing the granular numbers associated with addbacks provided by the seller. Your goal is to provide detailed insights into these addbacks.",
    allow_delegation=False,
    verbose=True
)

# Agent: MPA Preparer
mpa_preparer = Agent(
    role="MPA Preparer",
    goal="Prepare a Market Price Analysis (MPA) and list questions for the seller.",
    backstory="You're tasked with preparing the Market Price Analysis (MPA) using the insights provided by the Financial Analyst and Addback Analyst. Your goal is to compile this into a comprehensive report and generate a list of questions where the data is questionable.",
    allow_delegation=False,
    verbose=True
)

# Agent: Editor
editor = Agent(
    role="Editor",
    goal="Review the MPA and questions to ensure accuracy and clarity.",
    backstory="You're tasked with reviewing the Market Price Analysis (MPA) and the list of questions generated by the MPA Preparer. Your goal is to ensure accuracy and clarity in the final documents.",
    allow_delegation=False,
    verbose=True
)

# Task: Review Documents
review_docs = Task(
    description=(
        "1. Review the financial statements provided by the seller.\n"
        "2. Extract key financial figures such as revenue, profit, expenses, etc.\n"
        "3. Provide these figures in a structured format."
    ),
    expected_output="Structured financial figures extracted from the documents.",
    agent=doc_reviewer,
)

# Task: Analyze Financial Figures
analyze_financials = Task(
    description=(
        "1. Analyze the extracted financial figures.\n"
        "2. Provide detailed insights into the financial health of the business."
    ),
    expected_output="Detailed financial analysis report.",
    agent=financial_analyst,
)

# Task: Analyze Addbacks
analyze_addbacks = Task(
    description=(
        "1. Analyze the granular numbers associated with addbacks.\n"
        "2. Provide detailed insights into these addbacks."
    ),
    expected_output="Detailed addback analysis report.",
    agent=addback_analyst,
)

# Task: Prepare MPA
prepare_mpa = Task(
    description=(
        "1. Compile the insights from the financial and addback analyses.\n"
        "2. Prepare a comprehensive Market Price Analysis (MPA).\n"
        "3. Generate a list of questions where the data is questionable."
    ),
    expected_output="Comprehensive MPA report with a list of questions.",
    agent=mpa_preparer,
)

# Task: Review MPA
review_mpa = Task(
    description=(
        "1. Review the MPA and the list of questions.\n"
        "2. Ensure accuracy and clarity in the final documents."
    ),
    expected_output="Final reviewed MPA report and list of questions.",
    agent=editor,
)

crew = Crew(
    agents=[doc_reviewer, financial_analyst, addback_analyst, mpa_preparer, editor],
    tasks=[review_docs, analyze_financials, analyze_addbacks, prepare_mpa, review_mpa],
    verbose=2
)

result = crew.kickoff(inputs={"topic": "Financial Analysis of ABC Corp"})

# Display the results
from IPython.display import Markdown
Markdown(result)
>>>>>>> e1a50ee (Update financial_analysis.ipynb)
=======
  "language_info": {
   "name": "python"
  }
 },
 "nbformat": 4,
 "nbformat_minor": 2
}
>>>>>>> 40d4b2d (Updated Files)
